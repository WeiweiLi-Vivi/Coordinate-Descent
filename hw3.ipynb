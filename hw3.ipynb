{
 "cells": [
  {
   "cell_type": "code",
   "execution_count": 29,
   "metadata": {
    "collapsed": true
   },
   "outputs": [],
   "source": [
    "import numpy as np\n",
    "import math\n",
    "from sklearn.preprocessing import normalize\n",
    "import random\n",
    "from sklearn import linear_model\n",
    "%matplotlib inline\n",
    "import matplotlib.pyplot as plt\n",
    "import pickle"
   ]
  },
  {
   "cell_type": "code",
   "execution_count": 30,
   "metadata": {
    "collapsed": false
   },
   "outputs": [],
   "source": [
    "f=open('/Users/weiweili/Documents/UCSD-Stats/CSE 250B Fall16/HW3/wine.data.txt','r')\n",
    "dat=[line.strip().split(',') for line in f]\n",
    "dat=np.array(dat)"
   ]
  },
  {
   "cell_type": "code",
   "execution_count": 31,
   "metadata": {
    "collapsed": false
   },
   "outputs": [],
   "source": [
    "datp=np.random.permutation(dat)"
   ]
  },
  {
   "cell_type": "code",
   "execution_count": 32,
   "metadata": {
    "collapsed": false
   },
   "outputs": [],
   "source": [
    "label=datp[:,0].astype(np.int)\n",
    "label=label-1"
   ]
  },
  {
   "cell_type": "code",
   "execution_count": 33,
   "metadata": {
    "collapsed": false
   },
   "outputs": [],
   "source": [
    "datp = datp[:,1:14].astype(np.float)"
   ]
  },
  {
   "cell_type": "code",
   "execution_count": 34,
   "metadata": {
    "collapsed": true
   },
   "outputs": [],
   "source": [
    "offset=np.ones(178)\n",
    "datp=np.c_[datp,offset]"
   ]
  },
  {
   "cell_type": "code",
   "execution_count": 35,
   "metadata": {
    "collapsed": true
   },
   "outputs": [],
   "source": [
    "datm=normalize(datp,axis=0)"
   ]
  },
  {
   "cell_type": "code",
   "execution_count": 36,
   "metadata": {
    "collapsed": true
   },
   "outputs": [],
   "source": [
    "dat_train=datm[0:128,]\n",
    "dat_test=datm[128:178,]\n",
    "label_train=label[0:128]\n",
    "label_test=label[128:178]"
   ]
  },
  {
   "cell_type": "code",
   "execution_count": 37,
   "metadata": {
    "collapsed": false
   },
   "outputs": [],
   "source": [
    "# make the train_y into 128*3\n",
    "train_y=np.float32(np.eye(3)[label_train])\n",
    "train_x=dat_train.transpose()"
   ]
  },
  {
   "cell_type": "code",
   "execution_count": 38,
   "metadata": {
    "collapsed": true
   },
   "outputs": [],
   "source": [
    "#gradient matrix 3*14\n",
    "def gradient(W):\n",
    "    G=np.zeros((3,14))\n",
    "    ewx = np.exp(np.dot(W,train_x))\n",
    "    S=np.sum(ewx,axis=0)\n",
    "    for i in range(3):\n",
    "        for j in range(14):\n",
    "            l = -np.multiply(train_y[:,i],train_x[j,:])\n",
    "            r = np.multiply(ewx[i,:],train_x[j,:])\n",
    "            r = np.divide(r,S)\n",
    "            tmp=l+r\n",
    "            G[i,j]=np.mean(tmp)\n",
    "    return(G)   "
   ]
  },
  {
   "cell_type": "code",
   "execution_count": 39,
   "metadata": {
    "collapsed": true
   },
   "outputs": [],
   "source": [
    "#loss\n",
    "def loss(W):\n",
    "    ewx = np.exp(np.dot(W,train_x))\n",
    "    S=np.sum(ewx,axis=0)\n",
    "    tmp=np.log(np.divide(ewx,S)).transpose()\n",
    "    tmp=-np.multiply(train_y, tmp)\n",
    "    return np.sum(tmp)/len(train_y)\n"
   ]
  },
  {
   "cell_type": "code",
   "execution_count": 40,
   "metadata": {
    "collapsed": false
   },
   "outputs": [],
   "source": [
    "##error rate\n",
    "test_x=dat_test.transpose()\n",
    "def error(W):\n",
    "    test_y=np.dot(W,test_x)\n",
    "    K=len(test_y[1,:])\n",
    "    index=np.zeros(K)\n",
    "\n",
    "    for k in range(K):\n",
    "        index[k]=test_y[:,k].argmax()\n",
    "        \n",
    "    return 1.0*np.sum(label_test!=index)/len(label_test)\n"
   ]
  },
  {
   "cell_type": "code",
   "execution_count": 41,
   "metadata": {
    "collapsed": true
   },
   "outputs": [],
   "source": [
    "#initial weight matrix 3*14\n",
    "W0=np.random.normal(0,1,(3,14))"
   ]
  },
  {
   "cell_type": "code",
   "execution_count": 42,
   "metadata": {
    "collapsed": false
   },
   "outputs": [
    {
     "name": "stdout",
     "output_type": "stream",
     "text": [
      "6784 0.00247577310898\n"
     ]
    }
   ],
   "source": [
    "# optimal coordinate descent:\n",
    "M= 20000\n",
    "K= 10\n",
    "alpha = 1e+3\n",
    "loss_vector=np.zeros(M)\n",
    "loss_vector[0] = loss(W0)\n",
    "W_opt = np.copy(W0)\n",
    "opt_err=np.zeros(M)\n",
    "opt_err[0]=error(W0)\n",
    "\n",
    "\n",
    "count=0\n",
    "for m in range(1,M):  \n",
    "    ewx = np.exp(np.dot(W_opt,train_x))\n",
    "    S = np.sum(ewx,axis=0)\n",
    "    G_matrix = gradient(W_opt)\n",
    "    for k in range(K):\n",
    "        pos = np.abs(G_matrix).argmax()\n",
    "        x = pos/14\n",
    "        y = pos%14       \n",
    "        W_opt[x,y] = W_opt[x,y]-alpha*G_matrix[x,y]\n",
    "\n",
    "    loss_vector[m]=loss(W_opt)\n",
    "    opt_err[m]=error(W_opt)\n",
    "    if loss_vector[m]>loss_vector[m-1]:\n",
    "        count=count+1\n",
    "    if count>5:\n",
    "        alpha=alpha/2\n",
    "        count=0\n",
    "    if abs(loss_vector[m]-loss_vector[m-1])/loss_vector[m-1] < 1e-4:\n",
    "        break\n",
    "M_opt=m\n",
    "print M_opt, loss_vector[M_opt]\n",
    "\n",
    "\n",
    "\n",
    "        "
   ]
  },
  {
   "cell_type": "code",
   "execution_count": 43,
   "metadata": {
    "collapsed": false
   },
   "outputs": [
    {
     "name": "stdout",
     "output_type": "stream",
     "text": [
      "973 0.0722880516908\n"
     ]
    }
   ],
   "source": [
    "#random coordinate descent:\n",
    "randloss_vector=np.zeros(M)\n",
    "randloss_vector[0] = loss(W0)\n",
    "W_rand = np.copy(W0)\n",
    "alpha = 1e+3\n",
    "rand_err=np.zeros(M)\n",
    "rand_err[0]=error(W0)\n",
    "\n",
    "count=0\n",
    "for m in range(1,M):\n",
    "    ewx = np.exp(np.dot(W_rand,train_x))\n",
    "    S=np.sum(ewx,axis=0)\n",
    "    G_matrix=gradient(W_rand)\n",
    "    for k in range(K):\n",
    "        x=random.randint(0,2)\n",
    "        y=random.randint(0,13)\n",
    "        W_rand[x,y]=W_rand[x,y]-alpha*G_matrix[x,y]        \n",
    "    randloss_vector[m]=loss(W_rand)\n",
    "    rand_err[m]=loss(W_rand)\n",
    "    if randloss_vector[m]>randloss_vector[m-1]:\n",
    "        count=count+1\n",
    "    if count>5:\n",
    "        alpha=alpha/2\n",
    "        count=0\n",
    "    if abs(randloss_vector[m]-randloss_vector[m-1])/randloss_vector[m-1] < 1e-4:\n",
    "        break\n",
    "M_rand=m\n",
    "print M_rand, randloss_vector[M_rand]\n",
    "\n",
    "       \n",
    "    "
   ]
  },
  {
   "cell_type": "code",
   "execution_count": 71,
   "metadata": {
    "collapsed": false
   },
   "outputs": [
    {
     "data": {
      "text/plain": [
       "5.0254007252726872e-06"
      ]
     },
     "execution_count": 71,
     "metadata": {},
     "output_type": "execute_result"
    }
   ],
   "source": [
    "#final loss \n",
    "logreg = linear_model.LogisticRegression(C=float(\"inf\"),multi_class='multinomial',\\\n",
    "                                         solver='lbfgs',\\\n",
    "                                         fit_intercept=False)\n",
    "logreg.fit(dat_train,label_train)\n",
    "W_fnl = np.asarray(logreg.coef_)\n",
    "fnloss=loss(W_fnl)\n",
    "fnloss"
   ]
  },
  {
   "cell_type": "code",
   "execution_count": 59,
   "metadata": {
    "collapsed": false
   },
   "outputs": [
    {
     "data": {
      "text/plain": [
       "0.0"
      ]
     },
     "execution_count": 59,
     "metadata": {},
     "output_type": "execute_result"
    }
   ],
   "source": [
    "#final error rate \n",
    "fnl_err=error(W_fnl)"
   ]
  },
  {
   "cell_type": "code",
   "execution_count": 69,
   "metadata": {
    "collapsed": false
   },
   "outputs": [
    {
     "name": "stdout",
     "output_type": "stream",
     "text": [
      "Using matplotlib backend: MacOSX\n"
     ]
    },
    {
     "data": {
      "image/png": "[encoded data removed]",
      "text/plain": [
       "<matplotlib.figure.Figure at 0x111452c90>"
      ]
     },
     "metadata": {},
     "output_type": "display_data"
    }
   ],
   "source": [
    "%matplotlib auto\n",
    "plt.figure(figsize=(10,6))\n",
    "plt.plot(range(M_opt+1),loss_vector[0:M_opt+1],label='proposed')\n",
    "plt.plot(range(M_rand+1),randloss_vector[0:M_rand+1],label='random')\n",
    "plt.axhline(fnloss,color='r',label='benchmark')\n",
    "plt.xlabel('m')\n",
    "plt.ylabel('Loss')\n",
    "plt.title('Loss')\n",
    "axes = plt.gca()\n",
    "axes.set_xlim([0,min(M_opt,M_rand)])\n",
    "axes.set_ylim([-0.2,1])\n",
    "plt.legend()\n",
    "plt.show()\n",
    "plt.savefig('loss.eps', format='eps', dpi=1000)"
   ]
  },
  {
   "cell_type": "code",
   "execution_count": 70,
   "metadata": {
    "collapsed": false
   },
   "outputs": [
    {
     "data": {
      "image/png": "[encoded data removed]",
      "text/plain": [
       "<matplotlib.figure.Figure at 0x110f886d0>"
      ]
     },
     "metadata": {},
     "output_type": "display_data"
    }
   ],
   "source": [
    "plt.figure(figsize=(10,6))\n",
    "plt.plot(range(M_opt+1),opt_err[0:M_opt+1],label='proposed')\n",
    "plt.plot(range(M_rand+1),rand_err[0:M_rand+1],label='random')\n",
    "plt.axhline(y=fnl_err,color='r',label='benchmark')\n",
    "plt.xlabel('m')\n",
    "plt.ylabel('Error')\n",
    "plt.title('Error')\n",
    "axes = plt.gca()\n",
    "axes.set_xlim([0,min(M_opt,M_rand)])\n",
    "axes.set_ylim([-0.1,1])\n",
    "plt.legend()\n",
    "plt.show()\n",
    "plt.savefig('error.eps', format='eps', dpi=1000)"
   ]
  },
  {
   "cell_type": "code",
   "execution_count": null,
   "metadata": {
    "collapsed": true
   },
   "outputs": [],
   "source": []
  }
 ],
 "metadata": {
  "kernelspec": {
   "display_name": "Python 2",
   "language": "python",
   "name": "python2"
  },
  "language_info": {
   "codemirror_mode": {
    "name": "ipython",
    "version": 2
   },
   "file_extension": ".py",
   "mimetype": "text/x-python",
   "name": "python",
   "nbconvert_exporter": "python",
   "pygments_lexer": "ipython2",
   "version": "2.7.12"
  }
 },
 "nbformat": 4,
 "nbformat_minor": 0
}
